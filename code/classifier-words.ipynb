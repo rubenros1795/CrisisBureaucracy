{
 "metadata": {
  "language_info": {
   "codemirror_mode": {
    "name": "ipython",
    "version": 3
   },
   "file_extension": ".py",
   "mimetype": "text/x-python",
   "name": "python",
   "nbconvert_exporter": "python",
   "pygments_lexer": "ipython3",
   "version": "3.8.6"
  },
  "orig_nbformat": 2,
  "kernelspec": {
   "name": "python3",
   "display_name": "Python 3",
   "language": "python"
  }
 },
 "nbformat": 4,
 "nbformat_minor": 2,
 "cells": [
  {
   "cell_type": "code",
   "execution_count": 1,
   "metadata": {},
   "outputs": [
    {
     "output_type": "error",
     "ename": "ModuleNotFoundError",
     "evalue": "No module named 'classification'",
     "traceback": [
      "\u001b[0;31m---------------------------------------------------------------------------\u001b[0m",
      "\u001b[0;31mModuleNotFoundError\u001b[0m                       Traceback (most recent call last)",
      "\u001b[0;32m<ipython-input-1-51da6453aa27>\u001b[0m in \u001b[0;36m<module>\u001b[0;34m\u001b[0m\n\u001b[1;32m     12\u001b[0m \u001b[0;32mfrom\u001b[0m \u001b[0mIPython\u001b[0m\u001b[0;34m.\u001b[0m\u001b[0mcore\u001b[0m\u001b[0;34m.\u001b[0m\u001b[0mdisplay\u001b[0m \u001b[0;32mimport\u001b[0m \u001b[0mdisplay\u001b[0m\u001b[0;34m,\u001b[0m \u001b[0mHTML\u001b[0m\u001b[0;34m\u001b[0m\u001b[0;34m\u001b[0m\u001b[0m\n\u001b[1;32m     13\u001b[0m \u001b[0;34m\u001b[0m\u001b[0m\n\u001b[0;32m---> 14\u001b[0;31m \u001b[0;32mfrom\u001b[0m \u001b[0mclassification\u001b[0m \u001b[0;32mimport\u001b[0m \u001b[0;34m*\u001b[0m\u001b[0;34m\u001b[0m\u001b[0;34m\u001b[0m\u001b[0m\n\u001b[0m\u001b[1;32m     15\u001b[0m \u001b[0;32mimport\u001b[0m \u001b[0mspacy\u001b[0m\u001b[0;34m\u001b[0m\u001b[0;34m\u001b[0m\u001b[0m\n\u001b[1;32m     16\u001b[0m \u001b[0mnlp\u001b[0m \u001b[0;34m=\u001b[0m \u001b[0mspacy\u001b[0m\u001b[0;34m.\u001b[0m\u001b[0mload\u001b[0m\u001b[0;34m(\u001b[0m\u001b[0;34m\"en_core_web_sm\"\u001b[0m\u001b[0;34m)\u001b[0m\u001b[0;34m\u001b[0m\u001b[0;34m\u001b[0m\u001b[0m\n",
      "\u001b[0;31mModuleNotFoundError\u001b[0m: No module named 'classification'"
     ]
    }
   ],
   "source": [
    "import re, string,os\n",
    "from glob import glob as gb\n",
    "import pandas as pd\n",
    "from collections import Counter\n",
    "from tqdm import tqdm\n",
    "from utils.functions import *\n",
    "import seaborn as sns \n",
    "import matplotlib.pyplot as plt\n",
    "from sklearn.ensemble import RandomForestClassifier\n",
    "from nltk.corpus import stopwords\n",
    "stops = stopwords.words('english') + [\"hon\",\"member\",\"right\",\"friend\",\"mr\",'hon.','make','say','great']\n",
    "from IPython.core.display import display, HTML\n",
    "\n",
    "from classification import *\n",
    "import spacy \n",
    "nlp = spacy.load(\"en_core_web_sm\")"
   ]
  },
  {
   "cell_type": "code",
   "execution_count": null,
   "metadata": {},
   "outputs": [],
   "source": [
    "from glob import glob as gb\n",
    "import json \n",
    "import pandas as pd\n",
    "\n",
    "translator = {\n",
    "    \"m_10\":\"cost\",\n",
    "    \"m_11\":\"accountability\",\n",
    "    \"m_12\":\"freedom\",\n",
    "    \"m_13\":\"inefficiency\",\n",
    "    \"m_14\":\"irrationality\",\n",
    "    \"m_15\":\"centralisation\",\n",
    "    \"m_16\":\"power\",\n",
    "    \"m_8\":\"neutral\",\n",
    "    \"m_9\":\"size\"\n",
    "}\n",
    "\n",
    "lf = gb('/home/ruben/Documents/GitHub/CrisisBureaucracy/data/classifier/annotation-round-2/annotation-results/*')\n",
    "ltf = gb('/home/ruben/Documents/GitHub/CrisisBureaucracy/data/classifier/annotation-round-2/annotation-texts/*')\n",
    "ltf_ = {k.replace('_','-'):k for k in ltf}"
   ]
  },
  {
   "cell_type": "code",
   "execution_count": null,
   "metadata": {},
   "outputs": [],
   "source": [
    "def load_text_labels(fn):\n",
    "    try:\n",
    "        with open(fn,'r') as f:\n",
    "            c = json.load(f)\n",
    "        labels = [translator[x] for x in list(c['metas'].keys())]\n",
    "\n",
    "        txtn = fn[130:].replace('.ann.json','').replace('_','-')\n",
    "        txtn = \"/home/ruben/Documents/GitHub/CrisisBureaucracy/data/classifier/annotation-round-2/annotation-texts/\" + txtn\n",
    "\n",
    "        with open(ltf_[txtn],'r') as f:\n",
    "            t = f.read()\n",
    "        return [os.path.split(ltf_[txtn])[-1].replace('.txt',''),t,labels]\n",
    "    except:\n",
    "        print(e)\n",
    "        return"
   ]
  },
  {
   "cell_type": "code",
   "execution_count": null,
   "metadata": {},
   "outputs": [],
   "source": [
    "df = [load_text_labels(x) for x in lf]\n",
    "d = []\n",
    "\n",
    "for x in df:\n",
    "    for l in x[2]:\n",
    "        d.append([x[0],x[1],l])"
   ]
  },
  {
   "cell_type": "code",
   "execution_count": null,
   "metadata": {},
   "outputs": [],
   "source": [
    "df = pd.DataFrame(d,columns=['id','text','label'])\n",
    "df['text'] = utils.preprocess_(df['text'])\n",
    "df['text'] = [\" \".join([w.text for w in nlp(t) if w.pos_ in [\"ADJ\",\"NOUN\"] and w.text not in stops]) for t in tqdm(df['text'])]"
   ]
  },
  {
   "cell_type": "code",
   "execution_count": 24,
   "metadata": {},
   "outputs": [],
   "source": [
    "# Inspect Category TF-IDF terms\n",
    "tfidfo, docterms = tfidf.get_docterms(df,\"text\",ngram_range=(1,1),max_features=2500)\n",
    "tt = tfidf.get_topterms(tfidfo,docterms,df,'label')\n",
    "tt = tt.head(25)\n",
    "tt.head(25)\n",
    "ttm = tt.melt()\n",
    "unique_words = {cat:[w for w in tt[cat] if w not in set(ttm[ttm['variable'] != cat]['value'])] for cat in tt.columns}"
   ]
  },
  {
   "cell_type": "code",
   "execution_count": 39,
   "metadata": {},
   "outputs": [
    {
     "output_type": "display_data",
     "data": {
      "text/plain": "<IPython.core.display.HTML object>",
      "text/html": " <span style=\"background-color:#a2b;\">cost</span> - <span style=\"background-color:#6ec;\">irrationality</span> - <span style=\"background-color:#614;\">freedom</span> - <span style=\"background-color:#9ff;\">power</span> - <span style=\"background-color:#bd3;\">size</span> - <span style=\"background-color:#85e;\">neutral</span> - <span style=\"background-color:#dfc;\">accountability</span> - <span style=\"background-color:#4e4;\">centralisation</span> - <span style=\"background-color:#b30;\">inefficiency</span> "
     },
     "metadata": {}
    },
    {
     "output_type": "stream",
     "name": "stdout",
     "text": [
      "----------------------------------------------\n\nsize\n"
     ]
    },
    {
     "output_type": "display_data",
     "data": {
      "text/plain": "<IPython.core.display.HTML object>",
      "text/html": "new regime per cent reduction dlo work force month quarter dlo england prescribed rate return capital high productivity selling surplus asset top <span style=\"background-color:#9ff;\">heavy</span> bureaucracy real <span style=\"background-color:#a2b;\">cost</span> consciousness example london borough camden dlo work force"
     },
     "metadata": {}
    },
    {
     "output_type": "stream",
     "name": "stdout",
     "text": [
      "-----------------------------------------\nsize\n"
     ]
    },
    {
     "output_type": "display_data",
     "data": {
      "text/plain": "<IPython.core.display.HTML object>",
      "text/html": "line new clause system planning permission countryside carport home permission arguable criterion destruction hedgerow downland roughland pond stream wetland reason function bill mean extension bureaucracy bureaucracy system general <span style=\"background-color:#b30;\">development</span> order minimis case"
     },
     "metadata": {}
    },
    {
     "output_type": "stream",
     "name": "stdout",
     "text": [
      "-----------------------------------------\naccountability\n"
     ]
    },
    {
     "output_type": "display_data",
     "data": {
      "text/plain": "<IPython.core.display.HTML object>",
      "text/html": "modern world talk devolution responsibility place <span style=\"background-color:#614;\">individual</span> important <span style=\"background-color:#dfc;\">political</span> matter <span style=\"background-color:#4e4;\">wide</span> matter length partnership industry ordinary citizen part government body kind danger britain subject <span style=\"background-color:#dfc;\">decision</span> bureaucracy adequate <span style=\"background-color:#dfc;\">parliamentary</span> scrutiny reasonable bill machinery house commons industry agriculture food <span style=\"background-color:#614;\">view</span> <span style=\"background-color:#85e;\">minister</span> council ministers responsible new policy europe"
     },
     "metadata": {}
    },
    {
     "output_type": "stream",
     "name": "stdout",
     "text": [
      "-----------------------------------------\ninefficiency\n"
     ]
    },
    {
     "output_type": "display_data",
     "data": {
      "text/plain": "<IPython.core.display.HTML object>",
      "text/html": "order deputy speaker increase loan contain supplementary estimates president <span style=\"background-color:#9ff;\">board</span> <span style=\"background-color:#85e;\">trade</span> government figure problem administration submit invoice new cash grant system figure insignificance bureaucracy lack understanding part government business work letter <span style=\"background-color:#9ff;\">board</span> <span style=\"background-color:#85e;\">trade</span> industrialist president <span style=\"background-color:#9ff;\">board</span> <span style=\"background-color:#85e;\">trade</span> <span style=\"background-color:#dfc;\">type</span> situation"
     },
     "metadata": {}
    },
    {
     "output_type": "stream",
     "name": "stdout",
     "text": [
      "-----------------------------------------\ninefficiency\n"
     ]
    },
    {
     "output_type": "display_data",
     "data": {
      "text/plain": "<IPython.core.display.HTML object>",
      "text/html": "gentleman main objective reform <span style=\"background-color:#b30;\">effective</span> expansion <span style=\"background-color:#b30;\">development</span> <span style=\"background-color:#dfc;\">type</span> certification simplification consultation process gentleman bill way complexity bureaucracy system"
     },
     "metadata": {}
    },
    {
     "output_type": "stream",
     "name": "stdout",
     "text": [
      "-----------------------------------------\nsize\n"
     ]
    },
    {
     "output_type": "display_data",
     "data": {
      "text/plain": "<IPython.core.display.HTML object>",
      "text/html": "voluntary action future resolve man woman imagination energy compassion <span style=\"background-color:#6ec;\">thing</span> scope statutory service government voluntary effort welfare state limp form <span style=\"background-color:#614;\">private</span> enterprise distinguish mark free <span style=\"background-color:#614;\">society</span> voluntary principle attitude compulsion extension bureaucracy double answer state"
     },
     "metadata": {}
    },
    {
     "output_type": "stream",
     "name": "stdout",
     "text": [
      "-----------------------------------------\nsize\n"
     ]
    },
    {
     "output_type": "display_data",
     "data": {
      "text/plain": "<IPython.core.display.HTML object>",
      "text/html": "joint <span style=\"background-color:#a2b;\">secretary</span> aware side house receive representation question post constituency distance communication constituent concern question <span style=\"background-color:#b30;\">job</span> <span style=\"background-color:#a2b;\">secretary</span> state user hospital <span style=\"background-color:#b30;\">unnecessary</span> bureaucracy <span style=\"background-color:#b30;\">unnecessary</span> bureaucracy"
     },
     "metadata": {}
    },
    {
     "output_type": "stream",
     "name": "stdout",
     "text": [
      "-----------------------------------------\ninefficiency\n"
     ]
    },
    {
     "output_type": "display_data",
     "data": {
      "text/plain": "<IPython.core.display.HTML object>",
      "text/html": "necessary overhead content non <span style=\"background-color:#9ff;\">productive</span> <span style=\"background-color:#b30;\">paper</span> push bureaucracy public <span style=\"background-color:#614;\">private</span> sector improvement total productivity industrial <span style=\"background-color:#614;\">social</span> wage productivity economy productivity kind question market stability industry competitiveness white <span style=\"background-color:#b30;\">paper</span> need"
     },
     "metadata": {}
    },
    {
     "output_type": "stream",
     "name": "stdout",
     "text": [
      "-----------------------------------------\nfreedom\n"
     ]
    },
    {
     "output_type": "display_data",
     "data": {
      "text/plain": "<IPython.core.display.HTML object>",
      "text/html": "delighted side inherent value smallness talk business government bureaucracy <span style=\"background-color:#6ec;\">school</span> education local government particular value <span style=\"background-color:#85e;\">small</span> business local level human relation good industrial relation good communication in6ependence <span style=\"background-color:#614;\">individual</span> adaptability flexibility <span style=\"background-color:#85e;\">small</span> business good relation customer provision good deal employment way <span style=\"background-color:#85e;\">small</span> business spur competition wealth value <span style=\"background-color:#85e;\">small</span> business lie way innovation matter profound <span style=\"background-color:#6ec;\">significance</span> future"
     },
     "metadata": {}
    },
    {
     "output_type": "stream",
     "name": "stdout",
     "text": [
      "-----------------------------------------\npower\n"
     ]
    },
    {
     "output_type": "display_data",
     "data": {
      "text/plain": "<IPython.core.display.HTML object>",
      "text/html": "thought <span style=\"background-color:#bd3;\">party</span> <span style=\"background-color:#dfc;\">political</span> nature historical analogy apt revolution nineteenth century royalist seat <span style=\"background-color:#9ff;\">rule</span> law time <span style=\"background-color:#9ff;\">rule</span> law rampart liberty expectation western world many year expectation confidence old generation country <span style=\"background-color:#b30;\">today</span> sort revolution western world present time <span style=\"background-color:#9ff;\">rule</span> law enemy liberty gentleman unity supporter enthusiast <span style=\"background-color:#4e4;\">certain</span> element young generation <span style=\"background-color:#614;\">society</span> regard <span style=\"background-color:#9ff;\">rule</span> law enemy liberty search basis citizen institutional abuse power royalist 20th century <span style=\"background-color:#85e;\">trade</span> union press <span style=\"background-color:#9ff;\">big</span> business bureaucracy"
     },
     "metadata": {}
    },
    {
     "output_type": "stream",
     "name": "stdout",
     "text": [
      "-----------------------------------------\nsize\n"
     ]
    },
    {
     "output_type": "display_data",
     "data": {
      "text/plain": "<IPython.core.display.HTML object>",
      "text/html": "public <span style=\"background-color:#614;\">private</span> sector waste utilisation misuse manpower <span style=\"background-color:#614;\">private</span> industry public sector overloading bureaucracy <span style=\"background-color:#614;\">private</span> industry <span style=\"background-color:#614;\">private</span> industry price overall profit factor sight public sector first <span style=\"background-color:#6ec;\">thing</span> squeeze economy"
     },
     "metadata": {}
    },
    {
     "output_type": "stream",
     "name": "stdout",
     "text": [
      "-----------------------------------------\nfreedom\n"
     ]
    },
    {
     "output_type": "display_data",
     "data": {
      "text/plain": "<IPython.core.display.HTML object>",
      "text/html": "increase <span style=\"background-color:#9ff;\">number</span> point everyday life government intervene limit <span style=\"background-color:#9ff;\">rule</span> regulation narrow administrative bureaucracy effort turn <span style=\"background-color:#9ff;\">big</span> government control scope opportunity purpose life last decade question government intervention industry increase employment government move <span style=\"background-color:#9ff;\">big</span> battalion"
     },
     "metadata": {}
    },
    {
     "output_type": "stream",
     "name": "stdout",
     "text": [
      "-----------------------------------------\npower\n"
     ]
    },
    {
     "output_type": "display_data",
     "data": {
      "text/plain": "<IPython.core.display.HTML object>",
      "text/html": "increase <span style=\"background-color:#9ff;\">number</span> point everyday life government intervene limit <span style=\"background-color:#9ff;\">rule</span> regulation narrow administrative bureaucracy effort turn <span style=\"background-color:#9ff;\">big</span> government control scope opportunity purpose life last decade question government intervention industry increase employment government move <span style=\"background-color:#9ff;\">big</span> battalion"
     },
     "metadata": {}
    },
    {
     "output_type": "stream",
     "name": "stdout",
     "text": [
      "-----------------------------------------\nneutral\n"
     ]
    },
    {
     "output_type": "display_data",
     "data": {
      "text/plain": "<IPython.core.display.HTML object>",
      "text/html": "little time repair local authority housing <span style=\"background-color:#85e;\">area</span> large <span style=\"background-color:#9ff;\">number</span> council property issue major cause frustration council tenant annoy bureaucracy operation local authority <span style=\"background-color:#dfc;\">political</span> point local authority <span style=\"background-color:#dfc;\">political</span> persuasion"
     },
     "metadata": {}
    },
    {
     "output_type": "stream",
     "name": "stdout",
     "text": [
      "-----------------------------------------\ncost\n"
     ]
    },
    {
     "output_type": "display_data",
     "data": {
      "text/plain": "<IPython.core.display.HTML object>",
      "text/html": "conservative <span style=\"background-color:#bd3;\">party</span> power balanced services equip powerful british build weapon <span style=\"background-color:#a2b;\">expensive</span> industrial production policy virtual dismemberment forces decline morale recruitment economy essential <span style=\"background-color:#a2b;\">money</span> government <span style=\"background-color:#a2b;\">expensive</span> bureaucracy <span style=\"background-color:#bd3;\">civil</span> service prove pen mighty sword hope british influence static basis mobile amphibious force suez force air cover"
     },
     "metadata": {}
    },
    {
     "output_type": "stream",
     "name": "stdout",
     "text": [
      "-----------------------------------------\n"
     ]
    }
   ],
   "source": [
    "cat_colors = {cat:\"#\"+str(\"%03x\" % random.randint(0, 0xFFF)) for cat,v in unique_words.items()}\n",
    "display(HTML((\"-\".join([f' <span style=\"background-color:{v};\">{k}</span> ' for k,v in cat_colors.items()]))))\n",
    "print(\"----------------------------------------------\\n\")\n",
    "for c,t in enumerate(df['text'][:15]):\n",
    "    print(df['label'][c])\n",
    "    text = t\n",
    "    for k,v in unique_words.items():\n",
    "        for w in v:\n",
    "            text = text.replace(f\" {w} \",f' <span style=\"background-color:{cat_colors[k]};\">{w}</span> ')\n",
    "    display(HTML(text))\n",
    "    print('-----------------------------------------')\n",
    "\n",
    "\n"
   ]
  },
  {
   "cell_type": "code",
   "execution_count": 32,
   "metadata": {},
   "outputs": [
    {
     "output_type": "display_data",
     "data": {
      "text/plain": "<IPython.core.display.HTML object>",
      "text/html": " <span style=\"background-color:#c10;\">cost</span> - <span style=\"background-color:#550;\">irrationality</span> - <span style=\"background-color:#f2d;\">freedom</span> - <span style=\"background-color:#997;\">power</span> - <span style=\"background-color:#efb;\">size</span> - <span style=\"background-color:#46b;\">neutral</span> - <span style=\"background-color:#d79;\">accountability</span> - <span style=\"background-color:#1ab;\">centralisation</span> - <span style=\"background-color:#59b;\">inefficiency</span> <br><br>new regime per cent reduction dlo work force month quarter dlo england prescribed rate return capital high productivity selling surplus asset top <span style=\"background-color:#997;\">heavy</span> bureaucracy real <span style=\"background-color:#c10;\">cost</span> consciousness example london borough camden dlo work force"
     },
     "metadata": {}
    }
   ],
   "source": []
  },
  {
   "cell_type": "code",
   "execution_count": 33,
   "metadata": {},
   "outputs": [
    {
     "output_type": "execute_result",
     "data": {
      "text/plain": [
       "                                                  id  \\\n",
       "0             10659-1983-07-18.15.1.4.7-conservative   \n",
       "1                 10327-1981-07-30.10.17.28.2-labour   \n",
       "2                  18728-1972-08-03.15.1.11.8-labour   \n",
       "3             18622-1967-02-01.8.2.88.1-conservative   \n",
       "4                   17461-1982-11-23.8.1.72.1-labour   \n",
       "..                                               ...   \n",
       "444                 17474-1960-05-12.9.1.6.11-labour   \n",
       "445          22085-1982-06-14.11.1.40.1-conservative   \n",
       "446  21872-1967-05-12.7.1.4.20-ulster_unionist_party   \n",
       "447  21872-1967-05-12.7.1.4.20-ulster_unionist_party   \n",
       "448           10362-1985-03-22.3.1.17.5-conservative   \n",
       "\n",
       "                                                  text           label  \n",
       "0    new regime per cent reduction dlo work force m...            size  \n",
       "1    line new clause system planning permission cou...            size  \n",
       "2    modern world talk devolution responsibility pl...  accountability  \n",
       "3    order deputy speaker increase loan contain sup...    inefficiency  \n",
       "4    gentleman main objective reform effective expa...    inefficiency  \n",
       "..                                                 ...             ...  \n",
       "444  west berlin people entitle sure moment instanc...         neutral  \n",
       "445            vast area bureaucracy existence abolish            size  \n",
       "446  important part british constitution many year ...         freedom  \n",
       "447  important part british constitution many year ...    inefficiency  \n",
       "448  export subsidy state development aid country g...         neutral  \n",
       "\n",
       "[449 rows x 3 columns]"
      ],
      "text/html": "<div>\n<style scoped>\n    .dataframe tbody tr th:only-of-type {\n        vertical-align: middle;\n    }\n\n    .dataframe tbody tr th {\n        vertical-align: top;\n    }\n\n    .dataframe thead th {\n        text-align: right;\n    }\n</style>\n<table border=\"1\" class=\"dataframe\">\n  <thead>\n    <tr style=\"text-align: right;\">\n      <th></th>\n      <th>id</th>\n      <th>text</th>\n      <th>label</th>\n    </tr>\n  </thead>\n  <tbody>\n    <tr>\n      <th>0</th>\n      <td>10659-1983-07-18.15.1.4.7-conservative</td>\n      <td>new regime per cent reduction dlo work force m...</td>\n      <td>size</td>\n    </tr>\n    <tr>\n      <th>1</th>\n      <td>10327-1981-07-30.10.17.28.2-labour</td>\n      <td>line new clause system planning permission cou...</td>\n      <td>size</td>\n    </tr>\n    <tr>\n      <th>2</th>\n      <td>18728-1972-08-03.15.1.11.8-labour</td>\n      <td>modern world talk devolution responsibility pl...</td>\n      <td>accountability</td>\n    </tr>\n    <tr>\n      <th>3</th>\n      <td>18622-1967-02-01.8.2.88.1-conservative</td>\n      <td>order deputy speaker increase loan contain sup...</td>\n      <td>inefficiency</td>\n    </tr>\n    <tr>\n      <th>4</th>\n      <td>17461-1982-11-23.8.1.72.1-labour</td>\n      <td>gentleman main objective reform effective expa...</td>\n      <td>inefficiency</td>\n    </tr>\n    <tr>\n      <th>...</th>\n      <td>...</td>\n      <td>...</td>\n      <td>...</td>\n    </tr>\n    <tr>\n      <th>444</th>\n      <td>17474-1960-05-12.9.1.6.11-labour</td>\n      <td>west berlin people entitle sure moment instanc...</td>\n      <td>neutral</td>\n    </tr>\n    <tr>\n      <th>445</th>\n      <td>22085-1982-06-14.11.1.40.1-conservative</td>\n      <td>vast area bureaucracy existence abolish</td>\n      <td>size</td>\n    </tr>\n    <tr>\n      <th>446</th>\n      <td>21872-1967-05-12.7.1.4.20-ulster_unionist_party</td>\n      <td>important part british constitution many year ...</td>\n      <td>freedom</td>\n    </tr>\n    <tr>\n      <th>447</th>\n      <td>21872-1967-05-12.7.1.4.20-ulster_unionist_party</td>\n      <td>important part british constitution many year ...</td>\n      <td>inefficiency</td>\n    </tr>\n    <tr>\n      <th>448</th>\n      <td>10362-1985-03-22.3.1.17.5-conservative</td>\n      <td>export subsidy state development aid country g...</td>\n      <td>neutral</td>\n    </tr>\n  </tbody>\n</table>\n<p>449 rows × 3 columns</p>\n</div>"
     },
     "metadata": {},
     "execution_count": 33
    }
   ],
   "source": [
    "df"
   ]
  },
  {
   "cell_type": "code",
   "execution_count": null,
   "metadata": {},
   "outputs": [],
   "source": []
  }
 ]
}