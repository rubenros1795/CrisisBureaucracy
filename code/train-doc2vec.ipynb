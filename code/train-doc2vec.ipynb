{
 "metadata": {
  "language_info": {
   "codemirror_mode": {
    "name": "ipython",
    "version": 3
   },
   "file_extension": ".py",
   "mimetype": "text/x-python",
   "name": "python",
   "nbconvert_exporter": "python",
   "pygments_lexer": "ipython3",
   "version": "3.8.6"
  },
  "orig_nbformat": 2,
  "kernelspec": {
   "name": "python3",
   "display_name": "Python 3",
   "language": "python"
  }
 },
 "nbformat": 4,
 "nbformat_minor": 2,
 "cells": [
  {
   "cell_type": "code",
   "execution_count": 2,
   "metadata": {},
   "outputs": [],
   "source": [
    "import re, string,os\n",
    "from glob import glob as gb\n",
    "import pandas as pd\n",
    "from collections import Counter\n",
    "from tqdm import tqdm\n",
    "from datetime import datetime, timedelta, date\n",
    "from collections import OrderedDict\n",
    "import subprocess\n",
    "from utils.functions import *\n",
    "import seaborn as sns \n",
    "import matplotlib.pyplot as plt\n",
    "from gensim.models import KeyedVectors\n",
    "from gensim.models.doc2vec import Doc2Vec, TaggedDocument\n",
    "from gensim.utils import simple_preprocess\n",
    "from gensim.parsing.preprocessing import strip_tags"
   ]
  },
  {
   "cell_type": "code",
   "execution_count": 3,
   "metadata": {},
   "outputs": [],
   "source": [
    "output_dir = \"~/Documents/GitHub/CrisisBureaucracy/results/w2v-models\""
   ]
  },
  {
   "cell_type": "code",
   "execution_count": 13,
   "metadata": {},
   "outputs": [
    {
     "output_type": "stream",
     "name": "stdout",
     "text": [
      "1957 73 9063\n",
      "1958 69 9099\n",
      "1959 76 9126\n",
      "1960 55 9006\n",
      "1961 106 9174\n",
      "1962 79 9213\n",
      "1963 82 9114\n",
      "1964 81 9053\n",
      "1965 56 9136\n",
      "1966 146 9225\n",
      "1967 188 9199\n",
      "1968 293 9381\n",
      "1969 219 9287\n",
      "1970 124 9088\n",
      "1971 222 9368\n",
      "1972 240 9321\n",
      "1973 213 9251\n",
      "1974 215 9322\n",
      "1975 539 9660\n",
      "1976 731 9878\n",
      "1977 639 9767\n",
      "1978 629 9750\n",
      "1979 440 9529\n",
      "1980 594 9784\n",
      "1981 477 8409\n",
      "1982 349 8131\n",
      "1983 372 8376\n",
      "1984 478 8122\n",
      "1985 446 8569\n"
     ]
    }
   ],
   "source": [
    "texts = []\n",
    "for year in range(1957,1986):\n",
    "    data = data_loader.subset(data_version=\"preprocessed_pm\",start_date=year,end_date=year+1,words=[]).reset_index(drop=True)\n",
    "    data = data.dropna()\n",
    "    data.columns = [f\"c{x}\" for x in data.columns]\n",
    "    data_b = data[data['c1'].astype(str).str.contains('bureauc')]\n",
    "    data = data.sample(10000).reset_index(drop=True)\n",
    "    data = data.append(data_b)\n",
    "    data = data.drop_duplicates('c0')\n",
    "    t = list(data.iloc[:,1])\n",
    "    t = [[w for w in x.split(' ') if w != \"\" and w != \" \"] for x in t if len(x.split(' ')) > 10]\n",
    "    #t = random.sample(t,2000)\n",
    "    texts += t\n",
    "    print(year,len(data_b),len(t))"
   ]
  },
  {
   "cell_type": "code",
   "execution_count": 16,
   "metadata": {},
   "outputs": [],
   "source": [
    "texts = [TaggedDocument(doc, [i]) for i, doc in enumerate(texts)]"
   ]
  },
  {
   "cell_type": "code",
   "execution_count": 17,
   "metadata": {},
   "outputs": [],
   "source": [
    "model = Doc2Vec(documents=texts,\n",
    "                 vector_size=300,\n",
    "                 min_count=25, window=15,\n",
    "                 sample=1e-5,\n",
    "                 negative=5,\n",
    "                 hs=1,\n",
    "                 epochs=75,\n",
    "                 dm=0,\n",
    "                 dbow_words=1,\n",
    "                 workers=8)"
   ]
  },
  {
   "cell_type": "code",
   "execution_count": 18,
   "metadata": {},
   "outputs": [],
   "source": [
    "model.save(f\"/home/ruben/Documents/GitHub/CrisisBureaucracy/results/w2v-models/doc2vec-v300-mc25-s200y.model\")"
   ]
  },
  {
   "cell_type": "code",
   "execution_count": null,
   "metadata": {},
   "outputs": [],
   "source": []
  }
 ]
}