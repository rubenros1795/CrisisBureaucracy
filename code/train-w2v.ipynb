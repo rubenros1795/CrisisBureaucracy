{
 "metadata": {
  "language_info": {
   "codemirror_mode": {
    "name": "ipython",
    "version": 3
   },
   "file_extension": ".py",
   "mimetype": "text/x-python",
   "name": "python",
   "nbconvert_exporter": "python",
   "pygments_lexer": "ipython3",
   "version": "3.8.6"
  },
  "orig_nbformat": 2,
  "kernelspec": {
   "name": "python3",
   "display_name": "Python 3",
   "language": "python"
  }
 },
 "nbformat": 4,
 "nbformat_minor": 2,
 "cells": [
  {
   "cell_type": "code",
   "execution_count": 1,
   "metadata": {},
   "outputs": [],
   "source": [
    "import re, string,os\n",
    "from glob import glob as gb\n",
    "import pandas as pd\n",
    "from collections import Counter\n",
    "from tqdm import tqdm\n",
    "from datetime import datetime, timedelta, date\n",
    "from collections import OrderedDict\n",
    "import subprocess\n",
    "from utils.functions import *\n",
    "import seaborn as sns \n",
    "import matplotlib.pyplot as plt\n",
    "from gensim.models import KeyedVectors\n",
    "import matplotlib.patheffects as path_effects"
   ]
  },
  {
   "cell_type": "code",
   "execution_count": 2,
   "metadata": {},
   "outputs": [
    {
     "output_type": "stream",
     "name": "stdout",
     "text": [
      "egrep -iE '' /media/ruben/Elements/PhD/data/hansard/lemmatized_pm/*1957*\n",
      "loaded 1957\n",
      "egrep -iE '' /media/ruben/Elements/PhD/data/hansard/lemmatized_pm/*1958*\n",
      "loaded 1958\n",
      "egrep -iE '' /media/ruben/Elements/PhD/data/hansard/lemmatized_pm/*1959*\n",
      "loaded 1959\n",
      "egrep -iE '' /media/ruben/Elements/PhD/data/hansard/lemmatized_pm/*1960*\n",
      "loaded 1960\n",
      "egrep -iE '' /media/ruben/Elements/PhD/data/hansard/lemmatized_pm/*1961*\n",
      "loaded 1961\n",
      "egrep -iE '' /media/ruben/Elements/PhD/data/hansard/lemmatized_pm/*1962*\n",
      "loaded 1962\n",
      "egrep -iE '' /media/ruben/Elements/PhD/data/hansard/lemmatized_pm/*1963*\n",
      "loaded 1963\n",
      "egrep -iE '' /media/ruben/Elements/PhD/data/hansard/lemmatized_pm/*1964*\n",
      "loaded 1964\n",
      "egrep -iE '' /media/ruben/Elements/PhD/data/hansard/lemmatized_pm/*1965*\n",
      "loaded 1965\n",
      "egrep -iE '' /media/ruben/Elements/PhD/data/hansard/lemmatized_pm/*1966*\n",
      "loaded 1966\n",
      "egrep -iE '' /media/ruben/Elements/PhD/data/hansard/lemmatized_pm/*1967*\n",
      "loaded 1967\n",
      "egrep -iE '' /media/ruben/Elements/PhD/data/hansard/lemmatized_pm/*1968*\n",
      "loaded 1968\n",
      "egrep -iE '' /media/ruben/Elements/PhD/data/hansard/lemmatized_pm/*1969*\n",
      "loaded 1969\n",
      "egrep -iE '' /media/ruben/Elements/PhD/data/hansard/lemmatized_pm/*1970*\n",
      "loaded 1970\n",
      "egrep -iE '' /media/ruben/Elements/PhD/data/hansard/lemmatized_pm/*1971*\n",
      "loaded 1971\n",
      "egrep -iE '' /media/ruben/Elements/PhD/data/hansard/lemmatized_pm/*1972*\n",
      "loaded 1972\n",
      "egrep -iE '' /media/ruben/Elements/PhD/data/hansard/lemmatized_pm/*1973*\n",
      "loaded 1973\n",
      "egrep -iE '' /media/ruben/Elements/PhD/data/hansard/lemmatized_pm/*1974*\n",
      "loaded 1974\n",
      "egrep -iE '' /media/ruben/Elements/PhD/data/hansard/lemmatized_pm/*1975*\n",
      "loaded 1975\n",
      "egrep -iE '' /media/ruben/Elements/PhD/data/hansard/lemmatized_pm/*1976*\n",
      "loaded 1976\n",
      "egrep -iE '' /media/ruben/Elements/PhD/data/hansard/lemmatized_pm/*1977*\n",
      "loaded 1977\n",
      "egrep -iE '' /media/ruben/Elements/PhD/data/hansard/lemmatized_pm/*1978*\n",
      "loaded 1978\n",
      "egrep -iE '' /media/ruben/Elements/PhD/data/hansard/lemmatized_pm/*1979*\n",
      "loaded 1979\n",
      "egrep -iE '' /media/ruben/Elements/PhD/data/hansard/lemmatized_pm/*1980*\n",
      "loaded 1980\n",
      "egrep -iE '' /media/ruben/Elements/PhD/data/hansard/lemmatized_pm/*1981*\n",
      "loaded 1981\n",
      "egrep -iE '' /media/ruben/Elements/PhD/data/hansard/lemmatized_pm/*1982*\n",
      "loaded 1982\n",
      "egrep -iE '' /media/ruben/Elements/PhD/data/hansard/lemmatized_pm/*1983*\n",
      "loaded 1983\n",
      "egrep -iE '' /media/ruben/Elements/PhD/data/hansard/lemmatized_pm/*1984*\n",
      "loaded 1984\n",
      "egrep -iE '' /media/ruben/Elements/PhD/data/hansard/lemmatized_pm/*1985*\n",
      "loaded 1985\n"
     ]
    }
   ],
   "source": [
    "data = pd.DataFrame()\n",
    "for year in range(1957,1986):\n",
    "    d = data_loader.subset(data_version=\"lemmatized_pm\",start_date=year,end_date=year+1,words=[],exact_match=True,preprocess=True)\n",
    "    d = d.sample(5000)\n",
    "    data = data.append(d)\n",
    "    print('loaded',year)"
   ]
  },
  {
   "cell_type": "code",
   "execution_count": 6,
   "metadata": {},
   "outputs": [],
   "source": [
    "data = data[['id','speech_member_party','text_lemmatized']]"
   ]
  },
  {
   "cell_type": "code",
   "execution_count": 7,
   "metadata": {},
   "outputs": [],
   "source": [
    "data['text_lemmatized'] = utils.preprocess_(data['text_lemmatized'])"
   ]
  },
  {
   "cell_type": "code",
   "execution_count": 10,
   "metadata": {},
   "outputs": [],
   "source": [
    "data[['speech_member_party','text_lemmatized']].to_csv('/media/ruben/OSDisk/Users/ruben.ros/Documents/GitHub/TemporalReferencing/corpus/corpus_19571985_5000py_noid.txt',header=None,sep='\\t',index=False)"
   ]
  },
  {
   "cell_type": "code",
   "execution_count": 9,
   "metadata": {},
   "outputs": [],
   "source": [
    "texts = [t.split(' ') for t in data['text']]\n",
    "model = gensim.models.Word2Vec(texts, min_count=25, workers=8, iter=12, size = 100, window = 12)\n",
    "model.wv.save_word2vec_format(os.path.join(f\"/media/ruben/OSDisk/Users/ruben.ros/Documents/GitHub/CrisisBureaucracy/results/w2v-models/single-model-{len(data)}.bin\"), binary=True)"
   ]
  },
  {
   "cell_type": "code",
   "execution_count": 2,
   "metadata": {},
   "outputs": [],
   "source": [
    "list_bins = [[1957,1963],[1964,1969],[1970,1973],[1974,1978],[1979,1985]]\n",
    "embeddings.train_diachronic(list_bins=list_bins,sample_size=250000,output_dir='/media/ruben/OSDisk/Users/ruben.ros/Documents/GitHub/CrisisBureaucracy/results/w2v-models')"
   ]
  },
  {
   "cell_type": "code",
   "execution_count": 13,
   "metadata": {},
   "outputs": [
    {
     "output_type": "execute_result",
     "data": {
      "text/plain": [
       "[('assembly,', 0.5430497527122498),\n",
       " ('institution', 0.49460509419441223),\n",
       " ('resort.', 0.49196892976760864),\n",
       " ('elect', 0.48900794982910156),\n",
       " ('Parliament.\"', 0.47272396087646484),\n",
       " ('councillor,', 0.4706707000732422),\n",
       " ('assembly', 0.46940749883651733),\n",
       " ('electorate,', 0.46811020374298096),\n",
       " ('autonomy', 0.46577927470207214),\n",
       " ('resort,', 0.4604880213737488)]"
      ]
     },
     "metadata": {},
     "execution_count": 13
    }
   ],
   "source": [
    "model.wv.most_similar('parliament')"
   ]
  },
  {
   "cell_type": "code",
   "execution_count": 12,
   "metadata": {},
   "outputs": [
    {
     "output_type": "execute_result",
     "data": {
      "text/plain": [
       "2324.6875"
      ]
     },
     "metadata": {},
     "execution_count": 12
    }
   ],
   "source": [
    "import sys \n",
    "sys.getsizeof(texts) / 1024"
   ]
  },
  {
   "cell_type": "code",
   "execution_count": null,
   "metadata": {},
   "outputs": [],
   "source": []
  }
 ]
}